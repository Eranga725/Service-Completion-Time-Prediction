{
 "cells": [
  {
   "cell_type": "code",
   "execution_count": 30,
   "id": "2ab7c900",
   "metadata": {},
   "outputs": [
    {
     "name": "stdout",
     "output_type": "stream",
     "text": [
      "Model loaded successfully.\n"
     ]
    }
   ],
   "source": [
    "import pandas as pd\n",
    "import numpy as np\n",
    "import pickle\n",
    "\n",
    "artifacts_filename = 'service_completion_artifacts.pkl'\n",
    "with open(artifacts_filename, 'rb') as file:\n",
    "        artifacts = pickle.load(file)\n",
    "\n",
    "loaded_model = artifacts['model']\n",
    "le_task = artifacts['le_task']\n",
    "le_section = artifacts['le_section']\n",
    "features = artifacts['features']\n",
    "tasks_df = artifacts['tasks_df']\n",
    "staffing_df = artifacts['staffing_df']\n",
    "\n",
    "print(\"Model loaded successfully.\")"
   ]
  },
  {
   "cell_type": "markdown",
   "id": "ab88376e",
   "metadata": {},
   "source": [
    "Load the New Input Data"
   ]
  },
  {
   "cell_type": "code",
   "execution_count": 31,
   "id": "17aa48fe",
   "metadata": {},
   "outputs": [
    {
     "name": "stdout",
     "output_type": "stream",
     "text": [
      "49906 rows from 'task1_test_inputs.csv'.\n"
     ]
    }
   ],
   "source": [
    "input_filename = 'task1_test_inputs.csv'\n",
    "test_df = pd.read_csv(input_filename)\n",
    "print(f\"{len(test_df)} rows from '{input_filename}'.\")"
   ]
  },
  {
   "cell_type": "markdown",
   "id": "4116758e",
   "metadata": {},
   "source": [
    "Prediction Function"
   ]
  },
  {
   "cell_type": "code",
   "execution_count": 34,
   "id": "68949eb3",
   "metadata": {},
   "outputs": [],
   "source": [
    "def predict_completion_time(date_str, time_str, task_id):\n",
    "    \"\"\"Predicts completion time using the retrained model.\"\"\"\n",
    "    input_data = pd.DataFrame({'date': [date_str], 'time': [time_str], 'task_id': [task_id]})\n",
    "    \n",
    "    input_data['appointment_date'] = pd.to_datetime(input_data['date'])\n",
    "    input_data['appointment_hour'] = pd.to_datetime(input_data['time'], format='%H:%M').dt.hour\n",
    "    input_data['appointment_day_of_week'] = input_data['appointment_date'].dt.dayofweek\n",
    "    input_data['appointment_month'] = input_data['appointment_date'].dt.month\n",
    "    input_data['appointment_day_of_year'] = input_data['appointment_date'].dt.dayofyear\n",
    "    \n",
    "    input_data = pd.merge(input_data, tasks_df[['task_id', 'section_id']], on='task_id', how='left')\n",
    "    input_data = pd.merge(input_data, staffing_df, how='left', left_on=['appointment_date', 'section_id'], right_on=['date', 'section_id'])\n",
    "    \n",
    "    input_data.ffill(inplace=True)\n",
    "    input_data.bfill(inplace=True)\n",
    "    \n",
    "    input_data['task_id_encoded'] = le_task.transform(input_data['task_id'])\n",
    "    input_data['section_id_encoded'] = le_section.transform(input_data['section_id'])\n",
    "    \n",
    "    prediction = loaded_model.predict(input_data[features])\n",
    "    return int(round(prediction[0]))\n"
   ]
  },
  {
   "cell_type": "code",
   "execution_count": 35,
   "id": "7045f875",
   "metadata": {},
   "outputs": [
    {
     "name": "stdout",
     "output_type": "stream",
     "text": [
      "\n",
      "Generating predictions...\n"
     ]
    }
   ],
   "source": [
    "print(\"\\nGenerating predictions...\")\n",
    "\n",
    "# Add the new prediction column to your input dataframe\n",
    "test_df['expected_completion_time_minutes'] = test_df.apply(\n",
    "    lambda row: predict_completion_time(row['date'], row['time'], row['task_id']),\n",
    "    axis=1\n",
    ")"
   ]
  },
  {
   "cell_type": "code",
   "execution_count": 42,
   "id": "0986dfb2",
   "metadata": {},
   "outputs": [],
   "source": [
    "output_filename = 'task1_predictions.csv'\n",
    "test_df.to_csv(output_filename, index=False)"
   ]
  },
  {
   "cell_type": "code",
   "execution_count": 43,
   "id": "525e7741",
   "metadata": {},
   "outputs": [
    {
     "name": "stdout",
     "output_type": "stream",
     "text": [
      "                                     row_id        date   time   task_id  \\\n",
      "0  a19eed30dfbab7586131ca2329207b9cff81d5d5  2025-01-01  09:01  TASK-001   \n",
      "1  8da6066c865c7053bb39092977fc0e513e045159  2025-01-01  09:01  TASK-008   \n",
      "2  0cec7d70a44a71f0ceb7f78fabd2d0fef1439649  2025-01-01  09:01  TASK-017   \n",
      "3  de2e5611033bbae4fb959d008455103b2da53e01  2025-01-01  09:02  TASK-007   \n",
      "4  40736d54ee59e94c3dc5f34127d160db395805a3  2025-01-01  09:05  TASK-016   \n",
      "\n",
      "   expected_completion_time_minutes  \n",
      "0                                59  \n",
      "1                                27  \n",
      "2                                82  \n",
      "3                                21  \n",
      "4                                55  \n"
     ]
    }
   ],
   "source": [
    "print(test_df.head())"
   ]
  }
 ],
 "metadata": {
  "kernelspec": {
   "display_name": "Python 3",
   "language": "python",
   "name": "python3"
  },
  "language_info": {
   "codemirror_mode": {
    "name": "ipython",
    "version": 3
   },
   "file_extension": ".py",
   "mimetype": "text/x-python",
   "name": "python",
   "nbconvert_exporter": "python",
   "pygments_lexer": "ipython3",
   "version": "3.11.9"
  }
 },
 "nbformat": 4,
 "nbformat_minor": 5
}
